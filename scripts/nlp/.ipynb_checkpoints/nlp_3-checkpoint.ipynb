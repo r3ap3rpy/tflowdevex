{
 "cells": [
  {
   "cell_type": "code",
   "execution_count": 1,
   "metadata": {},
   "outputs": [],
   "source": [
    "# Run this to ensure TensorFlow 2.x is used\n",
    "try:\n",
    "  # %tensorflow_version only exists in Colab.\n",
    "  %tensorflow_version 2.x\n",
    "except Exception:\n",
    "  pass"
   ]
  },
  {
   "cell_type": "code",
   "execution_count": 2,
   "metadata": {},
   "outputs": [],
   "source": [
    "import json\n",
    "import requests\n",
    "import tensorflow as tf\n",
    "\n",
    "from tensorflow.keras.preprocessing.text import Tokenizer\n",
    "from tensorflow.keras.preprocessing.sequence import pad_sequences"
   ]
  },
  {
   "cell_type": "code",
   "execution_count": 3,
   "metadata": {},
   "outputs": [],
   "source": [
    "result = requests.get(\"https://storage.googleapis.com/laurencemoroney-blog.appspot.com/sarcasm.json\")\n",
    "datastore = json.loads(result.text)"
   ]
  },
  {
   "cell_type": "code",
   "execution_count": 4,
   "metadata": {},
   "outputs": [],
   "source": [
    "vocab_size = 10000\n",
    "embedding_dim = 16\n",
    "max_length = 100\n",
    "trunc_type='post'\n",
    "padding_type='post'\n",
    "oov_tok = \"<OOV>\"\n",
    "training_size = 20000"
   ]
  },
  {
   "cell_type": "code",
   "execution_count": 5,
   "metadata": {},
   "outputs": [],
   "source": [
    "sentences = []\n",
    "labels = []\n",
    "\n",
    "for item in datastore:\n",
    "    sentences.append(item['headline'])\n",
    "    labels.append(item['is_sarcastic'])"
   ]
  },
  {
   "cell_type": "code",
   "execution_count": 6,
   "metadata": {},
   "outputs": [],
   "source": [
    "training_sentences = sentences[0:training_size]\n",
    "testing_sentences = sentences[training_size:]\n",
    "training_labels = labels[0:training_size]\n",
    "testing_labels = labels[training_size:]"
   ]
  },
  {
   "cell_type": "code",
   "execution_count": 7,
   "metadata": {},
   "outputs": [],
   "source": [
    "tokenizer = Tokenizer(num_words=vocab_size, oov_token=oov_tok)\n",
    "tokenizer.fit_on_texts(training_sentences)\n",
    "\n",
    "word_index = tokenizer.word_index\n",
    "\n",
    "training_sequences = tokenizer.texts_to_sequences(training_sentences)\n",
    "training_padded = pad_sequences(training_sequences, maxlen=max_length, padding=padding_type, truncating=trunc_type)\n",
    "\n",
    "testing_sequences = tokenizer.texts_to_sequences(testing_sentences)\n",
    "testing_padded = pad_sequences(testing_sequences, maxlen=max_length, padding=padding_type, truncating=trunc_type)"
   ]
  },
  {
   "cell_type": "code",
   "execution_count": 8,
   "metadata": {},
   "outputs": [],
   "source": [
    "import numpy as np\n",
    "training_padded = np.array(training_padded)\n",
    "training_labels = np.array(training_labels)\n",
    "testing_padded = np.array(testing_padded)\n",
    "testing_labels = np.array(testing_labels)"
   ]
  },
  {
   "cell_type": "code",
   "execution_count": 9,
   "metadata": {},
   "outputs": [],
   "source": [
    "model = tf.keras.Sequential([\n",
    "    tf.keras.layers.Embedding(vocab_size, embedding_dim, input_length=max_length),\n",
    "    tf.keras.layers.GlobalAveragePooling1D(),\n",
    "    tf.keras.layers.Dense(24, activation='relu'),\n",
    "    tf.keras.layers.Dense(1, activation='sigmoid')\n",
    "])\n",
    "model.compile(loss='binary_crossentropy',optimizer='adam',metrics=['accuracy'])"
   ]
  },
  {
   "cell_type": "code",
   "execution_count": 10,
   "metadata": {},
   "outputs": [
    {
     "name": "stdout",
     "output_type": "stream",
     "text": [
      "Model: \"sequential\"\n",
      "_________________________________________________________________\n",
      "Layer (type)                 Output Shape              Param #   \n",
      "=================================================================\n",
      "embedding (Embedding)        (None, 100, 16)           160000    \n",
      "_________________________________________________________________\n",
      "global_average_pooling1d (Gl (None, 16)                0         \n",
      "_________________________________________________________________\n",
      "dense (Dense)                (None, 24)                408       \n",
      "_________________________________________________________________\n",
      "dense_1 (Dense)              (None, 1)                 25        \n",
      "=================================================================\n",
      "Total params: 160,433\n",
      "Trainable params: 160,433\n",
      "Non-trainable params: 0\n",
      "_________________________________________________________________\n"
     ]
    }
   ],
   "source": [
    "model.summary()"
   ]
  },
  {
   "cell_type": "code",
   "execution_count": 11,
   "metadata": {},
   "outputs": [
    {
     "name": "stdout",
     "output_type": "stream",
     "text": [
      "Epoch 1/30\n",
      "625/625 - 1s - loss: 0.6634 - accuracy: 0.5860 - val_loss: 0.5835 - val_accuracy: 0.8003\n",
      "Epoch 2/30\n",
      "625/625 - 1s - loss: 0.4397 - accuracy: 0.8275 - val_loss: 0.3897 - val_accuracy: 0.8410\n",
      "Epoch 3/30\n",
      "625/625 - 1s - loss: 0.3142 - accuracy: 0.8785 - val_loss: 0.3549 - val_accuracy: 0.8536\n",
      "Epoch 4/30\n",
      "625/625 - 1s - loss: 0.2631 - accuracy: 0.8983 - val_loss: 0.3485 - val_accuracy: 0.8506\n",
      "Epoch 5/30\n",
      "625/625 - 1s - loss: 0.2257 - accuracy: 0.9146 - val_loss: 0.3562 - val_accuracy: 0.8442\n",
      "Epoch 6/30\n",
      "625/625 - 1s - loss: 0.1993 - accuracy: 0.9244 - val_loss: 0.3484 - val_accuracy: 0.8530\n",
      "Epoch 7/30\n",
      "625/625 - 1s - loss: 0.1783 - accuracy: 0.9329 - val_loss: 0.3596 - val_accuracy: 0.8556\n",
      "Epoch 8/30\n",
      "625/625 - 1s - loss: 0.1588 - accuracy: 0.9422 - val_loss: 0.3708 - val_accuracy: 0.8545\n",
      "Epoch 9/30\n",
      "625/625 - 1s - loss: 0.1450 - accuracy: 0.9482 - val_loss: 0.3893 - val_accuracy: 0.8492\n",
      "Epoch 10/30\n",
      "625/625 - 1s - loss: 0.1317 - accuracy: 0.9538 - val_loss: 0.4252 - val_accuracy: 0.8381\n",
      "Epoch 11/30\n",
      "625/625 - 1s - loss: 0.1215 - accuracy: 0.9581 - val_loss: 0.4292 - val_accuracy: 0.8462\n",
      "Epoch 12/30\n",
      "625/625 - 1s - loss: 0.1106 - accuracy: 0.9629 - val_loss: 0.4465 - val_accuracy: 0.8433\n",
      "Epoch 13/30\n",
      "625/625 - 1s - loss: 0.1018 - accuracy: 0.9664 - val_loss: 0.4651 - val_accuracy: 0.8463\n",
      "Epoch 14/30\n",
      "625/625 - 1s - loss: 0.0932 - accuracy: 0.9693 - val_loss: 0.5312 - val_accuracy: 0.8302\n",
      "Epoch 15/30\n",
      "625/625 - 1s - loss: 0.0864 - accuracy: 0.9714 - val_loss: 0.5127 - val_accuracy: 0.8407\n",
      "Epoch 16/30\n",
      "625/625 - 1s - loss: 0.0803 - accuracy: 0.9742 - val_loss: 0.5357 - val_accuracy: 0.8401\n",
      "Epoch 17/30\n",
      "625/625 - 1s - loss: 0.0737 - accuracy: 0.9758 - val_loss: 0.6056 - val_accuracy: 0.8289\n",
      "Epoch 18/30\n",
      "625/625 - 1s - loss: 0.0690 - accuracy: 0.9786 - val_loss: 0.5890 - val_accuracy: 0.8317\n",
      "Epoch 19/30\n",
      "625/625 - 1s - loss: 0.0641 - accuracy: 0.9794 - val_loss: 0.6179 - val_accuracy: 0.8299\n",
      "Epoch 20/30\n",
      "625/625 - 1s - loss: 0.0586 - accuracy: 0.9831 - val_loss: 0.6542 - val_accuracy: 0.8293\n",
      "Epoch 21/30\n",
      "625/625 - 1s - loss: 0.0566 - accuracy: 0.9821 - val_loss: 0.7076 - val_accuracy: 0.8255\n",
      "Epoch 22/30\n",
      "625/625 - 1s - loss: 0.0508 - accuracy: 0.9852 - val_loss: 0.7055 - val_accuracy: 0.8249\n",
      "Epoch 23/30\n",
      "625/625 - 1s - loss: 0.0471 - accuracy: 0.9864 - val_loss: 0.7971 - val_accuracy: 0.8207\n",
      "Epoch 24/30\n",
      "625/625 - 1s - loss: 0.0448 - accuracy: 0.9869 - val_loss: 0.7663 - val_accuracy: 0.8216\n",
      "Epoch 25/30\n",
      "625/625 - 1s - loss: 0.0404 - accuracy: 0.9891 - val_loss: 0.8286 - val_accuracy: 0.8204\n",
      "Epoch 26/30\n",
      "625/625 - 1s - loss: 0.0369 - accuracy: 0.9899 - val_loss: 0.9218 - val_accuracy: 0.8159\n",
      "Epoch 27/30\n",
      "625/625 - 1s - loss: 0.0345 - accuracy: 0.9910 - val_loss: 0.8803 - val_accuracy: 0.8188\n",
      "Epoch 28/30\n",
      "625/625 - 1s - loss: 0.0324 - accuracy: 0.9913 - val_loss: 0.9407 - val_accuracy: 0.8156\n",
      "Epoch 29/30\n",
      "625/625 - 2s - loss: 0.0295 - accuracy: 0.9921 - val_loss: 0.9425 - val_accuracy: 0.8161\n",
      "Epoch 30/30\n",
      "625/625 - 2s - loss: 0.0280 - accuracy: 0.9921 - val_loss: 1.0175 - val_accuracy: 0.8167\n"
     ]
    }
   ],
   "source": [
    "num_epochs = 30\n",
    "history = model.fit(training_padded, training_labels, epochs=num_epochs, validation_data=(testing_padded, testing_labels), verbose=2)"
   ]
  },
  {
   "cell_type": "code",
   "execution_count": 12,
   "metadata": {},
   "outputs": [
    {
     "data": {
      "image/png": "[encoded data removed]",
      "text/plain": [
       "<Figure size 432x288 with 1 Axes>"
      ]
     },
     "metadata": {
      "needs_background": "light"
     },
     "output_type": "display_data"
    },
    {
     "data": {
      "image/png": "[encoded data removed]",
      "text/plain": [
       "<Figure size 432x288 with 1 Axes>"
      ]
     },
     "metadata": {
      "needs_background": "light"
     },
     "output_type": "display_data"
    }
   ],
   "source": [
    "import matplotlib.pyplot as plt\n",
    "\n",
    "\n",
    "def plot_graphs(history, string):\n",
    "  plt.plot(history.history[string])\n",
    "  plt.plot(history.history['val_'+string])\n",
    "  plt.xlabel(\"Epochs\")\n",
    "  plt.ylabel(string)\n",
    "  plt.legend([string, 'val_'+string])\n",
    "  plt.show()\n",
    "  \n",
    "plot_graphs(history, \"accuracy\")\n",
    "plot_graphs(history, \"loss\")"
   ]
  },
  {
   "cell_type": "code",
   "execution_count": 14,
   "metadata": {},
   "outputs": [
    {
     "name": "stdout",
     "output_type": "stream",
     "text": [
      "former <OOV> store clerk sues over secret 'black <OOV> for minority shoppers ? ? ? ? ? ? ? ? ? ? ? ? ? ? ? ? ? ? ? ? ? ? ? ? ? ? ? ? ? ? ? ? ? ? ? ? ? ? ? ? ? ? ? ? ? ? ? ? ? ? ? ? ? ? ? ? ? ? ? ? ? ? ? ? ? ? ? ? ? ? ? ? ? ? ? ? ? ? ? ? ? ? ? ? ? ? ? ?\n",
      "mom starting to fear son's web series closest thing she will have to grandchild\n",
      "1\n"
     ]
    }
   ],
   "source": [
    "reverse_word_index = dict([(value, key) for (key, value) in word_index.items()])\n",
    "\n",
    "def decode_sentence(text):\n",
    "    return ' '.join([reverse_word_index.get(i, '?') for i in text])\n",
    "\n",
    "print(decode_sentence(training_padded[0]))\n",
    "print(training_sentences[2])\n",
    "print(labels[2])"
   ]
  },
  {
   "cell_type": "code",
   "execution_count": 15,
   "metadata": {},
   "outputs": [
    {
     "name": "stdout",
     "output_type": "stream",
     "text": [
      "(10000, 16)\n"
     ]
    }
   ],
   "source": [
    "e = model.layers[0]\n",
    "weights = e.get_weights()[0]\n",
    "print(weights.shape) # shape: (vocab_size, embedding_dim)"
   ]
  },
  {
   "cell_type": "code",
   "execution_count": 16,
   "metadata": {},
   "outputs": [],
   "source": [
    "import io\n",
    "\n",
    "out_v = io.open('vecs.tsv', 'w', encoding='utf-8')\n",
    "out_m = io.open('meta.tsv', 'w', encoding='utf-8')\n",
    "for word_num in range(1, vocab_size):\n",
    "  word = reverse_word_index[word_num]\n",
    "  embeddings = weights[word_num]\n",
    "  out_m.write(word + \"\\n\")\n",
    "  out_v.write('\\t'.join([str(x) for x in embeddings]) + \"\\n\")\n",
    "out_v.close()\n",
    "out_m.close()"
   ]
  },
  {
   "cell_type": "code",
   "execution_count": 17,
   "metadata": {},
   "outputs": [],
   "source": [
    "try:\n",
    "  from google.colab import files\n",
    "except ImportError:\n",
    "  pass\n",
    "else:\n",
    "  files.download('vecs.tsv')\n",
    "  files.download('meta.tsv')"
   ]
  },
  {
   "cell_type": "code",
   "execution_count": 18,
   "metadata": {},
   "outputs": [
    {
     "name": "stdout",
     "output_type": "stream",
     "text": [
      "[[7.4470186e-01]\n",
      " [5.4290707e-05]]\n"
     ]
    }
   ],
   "source": [
    "sentence = [\"granny starting to fear spiders in the garden might be real\", \"game of thrones season finale showing this sunday night\"]\n",
    "sequences = tokenizer.texts_to_sequences(sentence)\n",
    "padded = pad_sequences(sequences, maxlen=max_length, padding=padding_type, truncating=trunc_type)\n",
    "print(model.predict(padded))"
   ]
  },
  {
   "cell_type": "code",
   "execution_count": null,
   "metadata": {},
   "outputs": [],
   "source": []
  }
 ],
 "metadata": {
  "kernelspec": {
   "display_name": "Python 3",
   "language": "python",
   "name": "python3"
  },
  "language_info": {
   "codemirror_mode": {
    "name": "ipython",
    "version": 3
   },
   "file_extension": ".py",
   "mimetype": "text/x-python",
   "name": "python",
   "nbconvert_exporter": "python",
   "pygments_lexer": "ipython3",
   "version": "3.7.0"
  }
 },
 "nbformat": 4,
 "nbformat_minor": 4
}
